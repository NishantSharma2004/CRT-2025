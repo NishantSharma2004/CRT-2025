!pip install Matplotlib
import numpy as np
import pandas as pd
import matplotlib.pyplot as plt
# Creating the dataset
data = {
    'Name': ['John', 'Alice', 'Bob', 'Emma', 'Ryan'],
    'Age': [28, 24, 30, 26, 35],
    'Gender': ['Male', 'Female', 'Male', 'Female', 'Male'],
    'Salary': [50000, 60000, 55000, 62000, 72000],
    'Department': ['IT', 'HR', 'Finance', 'IT', 'Finance']
}

df = pd.DataFrame(data)

# **17. Calculate the average salary using NumPy**
average_salary = np.mean(df['Salary'])
print("Average Salary:", average_salary)

# **18. Filter employees with salary greater than 60000 using Pandas**
high_salary_employees = df[df['Salary'] > 60000]
print("\nEmployees with Salary > 60000:\n", high_salary_employees)

# **19. Plot a bar chart for department-wise average salary using Matplotlib**
dept_avg_salary = df.groupby('Department')['Salary'].mean()

plt.figure(figsize=(8, 5))
dept_avg_salary.plot(kind='bar', color=['blue', 'orange', 'green'])
plt.xlabel("Department")
plt.ylabel("Average Salary")
plt.title("Department-wise Average Salary")
plt.xticks(rotation=45)
plt.show()


# question 20 , 21 ,22
import numpy as np
import pandas as pd
import matplotlib.pyplot as plt

# Creating the dataset
data = {
    'Name': ['Alice', 'Bob', 'Charlie', 'David', 'Eve'],
    'Age': [25, 30, 35, 28, 40],
    'Department': ['HR', 'IT', 'Sales', 'HR', 'IT'],
    'Salary': [50000, 70000, 45000, 52000, 80000]
}

df = pd.DataFrame(data)

# **20. Plot a bar chart to visualize the number of employees in each department**
dept_counts = df['Department'].value_counts()

plt.figure(figsize=(8, 5))
dept_counts.plot(kind='bar', color=['blue', 'orange', 'green'])
plt.xlabel("Department")
plt.ylabel("Number of Employees")
plt.title("Number of Employees in Each Department")
plt.xticks(rotation=45)
plt.show()

# **21. Filter employees with salary greater than 60,000 using Pandas**
high_salary_employees = df[df['Salary'] > 60000]
print("\nEmployees with Salary > 60000:\n", high_salary_employees)

# **22. Create a line graph for the salary trend by department**
dept_salary = df.groupby('Department')['Salary'].mean()

plt.figure(figsize=(8, 5))
dept_salary.plot(kind='line', marker='o', color='red', linestyle='--')
plt.xlabel("Department")
plt.ylabel("Average Salary")
plt.title("Salary Trend by Department")
plt.grid()
plt.show()
